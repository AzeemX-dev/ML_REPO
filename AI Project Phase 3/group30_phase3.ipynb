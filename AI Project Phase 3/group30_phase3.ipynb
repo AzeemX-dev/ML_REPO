{
  "cells": [
    {
      "cell_type": "markdown",
      "metadata": {
        "id": "SYT-2x47-sjY"
      },
      "source": [
        "# CS331 - Spring 2022 - Phase 3 [5%]\n",
        "\n",
        "*__Submission Guidelines:__*\n",
        "- Naming convention for submission of this notebook is `groupXX_Phase3.ipynb` where XX needs to be replaced by your group number. For example: group 1 would rename their notebook to `group01_Phase3.ipynb`\n",
        "- Only the group lead is supposed to make the submission\n",
        "- You need to submit this file as an .ipynb along with a .zip file of your own dataset and a document via LMS \n",
        "- The naming convention for the dataset is `groupXX_Dataset.zip`. Replace XX with the group number. The dataset <b>must</b> be a .zip file\n",
        "- For the document, the naming convention is `groupXX_Document.pdf` where XX needs to be replaced by your group number. In the document, you have to tell why you chose the preprocessing methods that you chose and also justify the choice of network, the hyperparamters, and the results. Also mention any improvements you could have incorporated in your NN implementations, as well as the limitations which constrained the overall performance. Essentially, document the process of phase 3. The document should not be longer than 2 pages and no lesser than 1 page\n",
        "- All the cells <b>must</b> be run once before submission. If your submission's cells are not showing the results (plots etc.), marks wil be deducted\n",
        "- Only the code written within this notebook will be considered while grading. No other files will be entertained\n",
        "- You are advised to follow good programming practies including approriate variable naming and making use of logical comments \n",
        "\n",
        "The university honor code should be maintained. Any violation, if found, will result in disciplinary action. \n"
      ]
    },
    {
      "cell_type": "markdown",
      "metadata": {
        "id": "zpC12Mye-9uZ"
      },
      "source": [
        "#### <b>Introduction</b> \n",
        "This is the final phase of this offering's project. By now you guys have managed to build a multi-layer NN from scratch which is capable of scoring decent accuracy on the Fashion MNIST dataset. In this phase, we are going to shift our focus to the process of data engineering. You will be creating your own dataset (details will be disclosed as you follow along), you will have to carry out some preprocessing on this dataset of yours and will use this to evaluate your network from phase 2. This will also involove the tedious process of tweaking the hyperparamters so that your network scores higher accuracy scores on your own, novel, dataset\n",
        "\n",
        "###### <b>IMPORTANT\n",
        "\n",
        "###### Modification of the provided code without prior discussion with the TAs will result in a grade deduction</b>\n",
        "\n",
        "---\n",
        "\n",
        "###### <b>Side note</b>\n",
        "The `plot_model` method will only work if you have the `pydot` python package installed along with [Graphviz](https://graphviz.gitlab.io/download/). If you do not wish to use this then simply comment out the import for `pydot`\n",
        "\n",
        "###### <b>Need Help?</b>\n",
        "If you need help, please refer to the course staff ASAP and do not wait till the last moment as they might not be available on very short notice close to deadlines"
      ]
    },
    {
      "cell_type": "markdown",
      "metadata": {
        "id": "idDbgABDBuvZ"
      },
      "source": [
        "#### <b>PART 1</b>\n",
        "\n",
        "This part is essentially the copy pasting of the codes from cells of your phase 2's notebook to the cells of this notebook. The intent is to replicate your phase 2's network and train (using the same OR different hyperparamters) it so that it can be used to evlaute the novel dataset (that will be part 2 of this phase)"
      ]
    },
    {
      "cell_type": "code",
      "execution_count": 4,
      "metadata": {
        "id": "s0OE_p0V-q-H"
      },
      "outputs": [],
      "source": [
        "# making all the necessary imports here\n",
        "\n",
        "import numpy as np\n",
        "import pandas as pd\n",
        "import time\n",
        "%matplotlib inline\n",
        "import matplotlib.pyplot as plt\n",
        "plt.style.use('seaborn')\n",
        "from IPython.display import Image\n",
        "import pydot\n",
        "from tqdm import tqdm_notebook\n",
        "import seaborn as sns\n",
        "from keras.datasets import fashion_mnist\n",
        "from sklearn.model_selection import train_test_split\n",
        "from keras.utils import np_utils\n",
        "from sklearn.datasets import make_moons\n",
        "from sklearn.linear_model import LinearRegression, LogisticRegression\n",
        "from sklearn.metrics import confusion_matrix,classification_report\n",
        "from google.colab import drive\n",
        "import glob\n",
        "import cv2"
      ]
    },
    {
      "cell_type": "code",
      "execution_count": 5,
      "metadata": {
        "id": "sz6xWsK3B-k4"
      },
      "outputs": [],
      "source": [
        "# This function will be used to plot the confusion matrix at the end of this notebook\n",
        "\n",
        "def plot_confusion_matrix(conf_mat):\n",
        "    classes = ['T-shirt/top','Trouser/pants','Pullover shirt','Dress','Coat','Sandal','Shirt','Sneaker','Bag','Ankle boot']\n",
        "    df_cm = pd.DataFrame(conf_mat,classes,classes)\n",
        "    plt.figure(figsize=(15,9))\n",
        "    sns.set(font_scale=1.4)\n",
        "    sns.heatmap(df_cm, annot=True,annot_kws={\"size\": 16})\n",
        "    plt.show()\n",
        "\n",
        "class_labels = ['T-shirt/top','Trouser/pants','Pullover shirt','Dress','Coat','Sandal','Shirt','Sneaker','Bag','Ankle boot']"
      ]
    },
    {
      "cell_type": "code",
      "execution_count": 6,
      "metadata": {
        "id": "J8vdVLQ0B_bd"
      },
      "outputs": [],
      "source": [
        "# Enter group lead's roll number here. This will be used for plotting purposes\n",
        "\n",
        "rollnumber = 24100006"
      ]
    },
    {
      "cell_type": "markdown",
      "metadata": {
        "id": "MK2xKOxzCqgE"
      },
      "source": [
        "#### __Dataset from Keras Library__\n",
        "\n",
        "The required library has been imported for you as fashion_mnist. Use it to load the train and test data accordingly."
      ]
    },
    {
      "cell_type": "code",
      "execution_count": 7,
      "metadata": {
        "id": "2ehOJSGECqOD",
        "colab": {
          "base_uri": "https://localhost:8080/"
        },
        "outputId": "6f2f92e2-2eb0-44d0-af59-6b96a45d094d"
      },
      "outputs": [
        {
          "output_type": "stream",
          "name": "stdout",
          "text": [
            "Downloading data from https://storage.googleapis.com/tensorflow/tf-keras-datasets/train-labels-idx1-ubyte.gz\n",
            "32768/29515 [=================================] - 0s 0us/step\n",
            "40960/29515 [=========================================] - 0s 0us/step\n",
            "Downloading data from https://storage.googleapis.com/tensorflow/tf-keras-datasets/train-images-idx3-ubyte.gz\n",
            "26427392/26421880 [==============================] - 0s 0us/step\n",
            "26435584/26421880 [==============================] - 0s 0us/step\n",
            "Downloading data from https://storage.googleapis.com/tensorflow/tf-keras-datasets/t10k-labels-idx1-ubyte.gz\n",
            "16384/5148 [===============================================================================================] - 0s 0us/step\n",
            "Downloading data from https://storage.googleapis.com/tensorflow/tf-keras-datasets/t10k-images-idx3-ubyte.gz\n",
            "4423680/4422102 [==============================] - 0s 0us/step\n",
            "4431872/4422102 [==============================] - 0s 0us/step\n",
            "Number of training sample:  60000\n",
            "Number of testing sample:  10000\n"
          ]
        }
      ],
      "source": [
        "classes = 10\n",
        "load = fashion_mnist.load_data()\n",
        "load1 = load[0][0]\n",
        "load2 = load[0][1]\n",
        "load3 = load[1][0]\n",
        "load4 = load[1][1]\n",
        "trY = np_utils.to_categorical(load2)\n",
        "tstY = np_utils.to_categorical(load4)\n",
        "test_data = []\n",
        "for mage in range(load3.shape[0]):\n",
        "  img = load3[mage]\n",
        "  meanIMG = np.mean(img)\n",
        "  meanMin = img - meanIMG\n",
        "  stDIMG = np.std(img)\n",
        "  nIMG = meanMin/stDIMG\n",
        "  fIMG = nIMG.flatten()\n",
        "  test_data.append(fIMG)\n",
        "tstX = np.array(test_data)\n",
        "train_data = []\n",
        "for mage in range(load1.shape[0]):\n",
        "  img = load1[mage]\n",
        "  meanIMG = np.mean(img)\n",
        "  meanMin = img - meanIMG\n",
        "  stDIMG = np.std(img)\n",
        "  nIMG = meanMin/stDIMG\n",
        "  fIMG = nIMG.flatten()\n",
        "  train_data.append(fIMG)\n",
        "trX = np.array(train_data)\n",
        "print(\"Number of training sample: \", len(trX))\n",
        "print(\"Number of testing sample: \", len(tstX))"
      ]
    },
    {
      "cell_type": "markdown",
      "metadata": {
        "id": "BLeZFElYFINX"
      },
      "source": [
        "#### __NN Implementation__\n",
        "Your implementation of NN needs to use the `sigmoid` activation function for all hidden layers and the `softmax` activation function for the output layer. The NN model you will be creating here will consits of only three layers: 1 input layer, n hidden layers (where you have the liberty to define n) and 1 output layer."
      ]
    },
    {
      "cell_type": "code",
      "execution_count": 8,
      "metadata": {
        "id": "rVq8Oq-MD2wZ"
      },
      "outputs": [],
      "source": [
        "class LessHiddenLayers(Exception):\n",
        "    def __init__(self, message):\n",
        "      self.message = message\n",
        "\n",
        "class NeuralNetwork():\n",
        "    @staticmethod\n",
        "    def cross_entropy_loss(y_pred, y_true):\n",
        "        logNp = np.log(y_pred)\n",
        "        mulNP = y_true * logNp\n",
        "        sum = mulNP.sum()\n",
        "        entropy_loss = -sum\n",
        "        return entropy_loss\n",
        "\n",
        "    @staticmethod\n",
        "    def accuracy(y_pred, y_true):\n",
        "        # implement accuracy function\n",
        "        #TO DO\n",
        "        sumcon = (y_pred == y_true)\n",
        "        acc_t = np.sum(sumcon)\n",
        "        predS = y_pred.shape[0]\n",
        "        predDiv = acc_t/predS\n",
        "        mulH = predDiv*100\n",
        "        return mulH\n",
        "\n",
        "    @staticmethod\n",
        "    def softmax(x):\n",
        "        # implement softmax function\n",
        "        #TO DO\n",
        "\n",
        "        exp = np.exp(x)\n",
        "        expSumDim = exp.sum(axis = 1, keepdims = True)\n",
        "        return exp/expSumDim\n",
        "\n",
        "    @staticmethod\n",
        "    def sigmoid(x):\n",
        "        #TO DO\n",
        "        exp = np.exp(-x)\n",
        "        return 1/(1+exp)\n",
        "\n",
        "    def __init__(self, nodes_per_layer):\n",
        "        raiseError = True\n",
        "        try:\n",
        "          lenoflayer = len(nodes_per_layer)\n",
        "          if lenoflayer < 2:\n",
        "            raise Exception\n",
        "          self.num_layers = len(nodes_per_layer) # including input and output layers\n",
        "          self.const = -1\n",
        "          self.num_layers = len(nodes_per_layer) # including input and output layers\n",
        "          self.nodes_per_layer = nodes_per_layer\n",
        "          self.input_shape = nodes_per_layer[self.const*0]\n",
        "          self.output_shape = nodes_per_layer[self.const]\n",
        "\n",
        "          self.weights_ = []\n",
        "          self.biases_ = []\n",
        "          self.__init_weights(nodes_per_layer)\n",
        "        except:\n",
        "          raiseError = False\n",
        "\n",
        "        if not raiseError:\n",
        "            raise LessHiddenLayers(\"# of hidden layers should be >= 2\")\n",
        "    def __init_weights(self, nodes_per_layer):\n",
        "        '''Initializes all weights based on standard normal distribution and all biases to 0.'''\n",
        "        '''Initialize weights for each layer except the input layer, since it does not have weights.'''\n",
        "        \n",
        "        ###### Code Here ######\n",
        "        lenNPL = len(nodes_per_layer) + self.const\n",
        "        for index in range(1, lenNPL):\n",
        "          sqt = np.sqrt(2/(nodes_per_layer[index + self.const] + nodes_per_layer[index]))\n",
        "          weight = np.random.normal(size=(nodes_per_layer[index + self.const], nodes_per_layer[index])) * sqt\n",
        "          bias = np.zeros(shape=(nodes_per_layer[index],))\n",
        "          self.weights_.append(weight)\n",
        "          self.biases_.append(bias)\n",
        "\n",
        "\n",
        "        sqtt = np.sqrt(2/(nodes_per_layer[len(nodes_per_layer) + (self.const-1)] + nodes_per_layer[self.const]))\n",
        "        lenst = len(nodes_per_layer) + (self.const-1)\n",
        "        weightO = np.random.normal(size=(nodes_per_layer[lenst], nodes_per_layer[self.const])) * sqtt\n",
        "        biasO = np.zeros(shape=(nodes_per_layer[self.const],))\n",
        "        self.weights_.append(weightO)\n",
        "        self.biases_.append(biasO)\n",
        "       \n",
        "    def forward_pass(self, input_data):\n",
        "        '''Executes the feed forward algorithm.\n",
        "        \"input_data\" is the input to the network in row-major form\n",
        "        Returns \"activations\", which is a list of all layer outputs (excluding input layer of course)'''\n",
        "        \n",
        "        ###### Code Here ######\n",
        "        activations = []\n",
        "        temp_inp = input_data\n",
        "        for index in range(0, len(self.weights_) - 1):\n",
        "          temp_inp = np.matmul(temp_inp, self.weights_[index]) + self.biases_[index]\n",
        "          temp_inp = self.sigmoid(temp_inp)\n",
        "          activations.append(temp_inp)\n",
        "        W_i =  self.weights_[self.const]\n",
        "        B_i = self.biases_[self.const]\n",
        "        matW = np.matmul(temp_inp,W_i)\n",
        "        temp_out = matW + B_i\n",
        "        temp_out = self.softmax(temp_out)\n",
        "        activations.append(temp_out)\n",
        "\n",
        "        return activations\n",
        "\n",
        "    def backward_pass(self, targets, layer_activations):\n",
        "        '''Executes the backpropogation algorithm.\n",
        "        \"targets\" is the ground truth/labels\n",
        "        \"layer_activations\" are the return value of the forward pass step\n",
        "        Returns \"DT\", which is a list containing weight update values for all layers (excluding the input layer of course)'''\n",
        "        \n",
        "        ###### Code Here ######\n",
        "        DT = []\n",
        "        tg = layer_activations[self.const] \n",
        "        DeDo = tg - targets\n",
        "        DeDi = DeDo\n",
        "        DT.append(DeDi)\n",
        "\n",
        "        hidden_LN = len(layer_activations) + (self.const - 1)\n",
        "        for i in range(len(self.weights_) + self.const, self.const + 1, self.const):\n",
        "          wT = self.weights_[i].T\n",
        "          DeDo = np.matmul(DeDi, wT)     \n",
        "          DoDi = np.multiply(layer_activations[hidden_LN], ((self.const + 2) - layer_activations[hidden_LN]))\n",
        "          hidden_LN = hidden_LN + self.const\n",
        "          DeDi = np.multiply(DoDi, DeDo)\n",
        "          DT.append(DeDi)\n",
        "\n",
        "        return DT\n",
        "    \n",
        "    def weight_update(self, DT, layer_inputs, lr):\n",
        "        '''Executes the gradient descent algorithm.\n",
        "        \"DT\" is return value of the backward pass step\n",
        "        \"layer_inputs\" is a list containing the inputs for all layers (including the input layer)\n",
        "        \"lr\" is the learning rate'''\n",
        "        \n",
        "        ###### Code Here ######\n",
        "        WN = 0\n",
        "        LN = 0\n",
        "        for i in range(len(DT) + self.const, self.const + 1, self.const):\n",
        "          DiDw = layer_inputs[LN]\n",
        "          DwT = DiDw.T\n",
        "          DeDw = np.matmul(DwT, DT[i])\n",
        "          lrDsi = (lr * DeDw)\n",
        "          self.weights_[WN] = self.weights_[WN] - lrDsi\n",
        "          lrDi = (lr * np.sum(DT[i], axis=0))\n",
        "          self.biases_[WN] = self.biases_[WN] - lrDi\n",
        "          WN = WN + 1\n",
        "          LN = LN + 1\n",
        "        \n",
        "        DiDw = layer_inputs[self.const]\n",
        "        DeDw = np.matmul(DiDw.T, DT[self.const + 1])\n",
        "        lrD = lr*DeDw\n",
        "        self.weights_[self.const] = self.weights_[self.const] - lrD\n",
        "        lrDs = (lr * np.sum(DT[self.const + 1], axis=0))\n",
        "        self.biases_[self.const] = self.biases_[self.const] - lrDs\n",
        "\n",
        "\n",
        "\n",
        "    ###### Do Not Change Anything Below this line in This Cell ######\n",
        "    \n",
        "    def fit(self, Xs, Ys, epochs, lr=1e-3):\n",
        "            history = []\n",
        "            for epoch in tqdm_notebook(range(epochs)):\n",
        "                num_samples = Xs.shape[0]\n",
        "                for i in range(num_samples):\n",
        "\n",
        "                    sample_input = Xs[i,:].reshape((1,self.input_shape))\n",
        "                    sample_target = Ys[i,:].reshape((1,self.output_shape))\n",
        "                    \n",
        "                    activations = self.forward_pass(sample_input)   # Call forward_pass function \n",
        "                    deltas = self.backward_pass(sample_target, activations)    # Call backward_pass function \n",
        "                    layer_inputs = [sample_input] + activations[:-1]\n",
        "                    \n",
        "                    # Call weight_update function \n",
        "                    self.weight_update(deltas, layer_inputs, lr)\n",
        "                \n",
        "                preds = self.predict(Xs)   # Call predict function \n",
        "\n",
        "                current_loss = self.cross_entropy_loss(preds, Ys)\n",
        "                \n",
        "                if  epoch==epochs-1:\n",
        "                  confusion_mat=confusion_matrix(Ys.argmax(axis=1), preds.argmax(axis=1),labels=np.arange(10))  \n",
        "                  plot_confusion_matrix(confusion_mat)\n",
        "                  report = classification_report(Ys, np_utils.to_categorical(preds.argmax(axis=1),num_classes=classes), target_names=class_labels)\n",
        "                  print(report)\n",
        "                history.append(current_loss)\n",
        "            return history\n",
        "    \n",
        "    def predict(self, Xs):\n",
        "        '''Returns the model predictions (output of the last layer) for the given \"Xs\".'''\n",
        "        predictions = []\n",
        "        num_samples = Xs.shape[0]\n",
        "        for i in range(num_samples):\n",
        "            sample = Xs[i,:].reshape((1,self.input_shape))\n",
        "            sample_prediction = self.forward_pass(sample)[-1]\n",
        "            predictions.append(sample_prediction.reshape((self.output_shape,)))\n",
        "        return np.array(predictions)\n",
        "    \n",
        "    def evaluate(self, Xs, Ys):\n",
        "        '''Returns appropriate metrics for the task, calculated on the dataset passed to this method.'''\n",
        "        pred = self.predict(Xs)\n",
        "        return self.cross_entropy_loss(pred, Ys), self.accuracy(pred.argmax(axis=1), Ys.argmax(axis=1))\n",
        "    \n",
        "    def plot_model(self, filename):\n",
        "        '''Provide the \"filename\" as a string including file extension. Creates an image showing the model as a graph.'''\n",
        "        graph = pydot.Dot(graph_type='digraph')\n",
        "        graph.set_rankdir('LR')\n",
        "        graph.set_node_defaults(shape='circle', fontsize=0)\n",
        "        nodes_per_layer = [self.input_shape, self.hidden_shape, self.output_shape]\n",
        "        for i in range(self.num_layers-1):\n",
        "            for n1 in range(nodes_per_layer[i]):\n",
        "                for n2 in range(nodes_per_layer[i+1]):\n",
        "                    edge = pydot.Edge(f'l{i}n{n1}', f'l{i+1}n{n2}')\n",
        "                    graph.add_edge(edge)\n",
        "        graph.write_png(filename)"
      ]
    },
    {
      "cell_type": "code",
      "execution_count": 9,
      "metadata": {
        "id": "Ew6nN0HyfbSd"
      },
      "outputs": [],
      "source": [
        "# These are what we call the hyperparameters (a.k.a Black Magic). You need to research on them and tweak them to see what generates the best result for you \n",
        "\n",
        "EPOCH = 100      # must be an int\n",
        "LEARNING_RATE = 0.001\n",
        "nodes_per_layer = [784, 128, 32, 10]  #int values for nodes of each layer. # of hidden layers >= 2. \n"
      ]
    },
    {
      "cell_type": "code",
      "execution_count": 14,
      "metadata": {
        "id": "z6TTr8h1fo4l",
        "colab": {
          "base_uri": "https://localhost:8080/",
          "height": 1000,
          "referenced_widgets": [
            "a9c8d5e64c1d457b9710fcb738539f41",
            "2a8e3788f58b43cb980c0248468a4ce5",
            "832eb9234c7f48458624ed06cf14e0c5",
            "eb72503db4a54eafa1b84fac91ea6204",
            "7b593b9e18dc4ddf8c5652dd0dfcf76f",
            "5dbe91c0e9734c11a2f381332856e576",
            "0e7275fcaaa44c96930f80073703155b",
            "c605df0f7ec8411886d98a2312924649",
            "b0d0c9b83f554c81ba6e0aac1ac4b978",
            "f523cc8007d64da599cd9b61cd34b9bd",
            "45c575d6cfc0468183d858e93924306b"
          ]
        },
        "outputId": "42c6bbfa-a765-42bf-e5eb-053d338f4d24"
      },
      "outputs": [
        {
          "output_type": "stream",
          "name": "stderr",
          "text": [
            "/usr/local/lib/python3.7/dist-packages/ipykernel_launcher.py:160: TqdmDeprecationWarning: This function will be removed in tqdm==5.0.0\n",
            "Please use `tqdm.notebook.tqdm` instead of `tqdm.tqdm_notebook`\n"
          ]
        },
        {
          "output_type": "display_data",
          "data": {
            "text/plain": [
              "  0%|          | 0/100 [00:00<?, ?it/s]"
            ],
            "application/vnd.jupyter.widget-view+json": {
              "version_major": 2,
              "version_minor": 0,
              "model_id": "a9c8d5e64c1d457b9710fcb738539f41"
            }
          },
          "metadata": {}
        },
        {
          "output_type": "display_data",
          "data": {
            "text/plain": [
              "<Figure size 1080x648 with 2 Axes>"
            ],
            "image/png": "[encoded data removed]"
          },
          "metadata": {}
        },
        {
          "output_type": "stream",
          "name": "stdout",
          "text": [
            "                precision    recall  f1-score   support\n",
            "\n",
            "   T-shirt/top       0.93      0.99      0.96      6000\n",
            " Trouser/pants       1.00      1.00      1.00      6000\n",
            "Pullover shirt       0.97      0.93      0.95      6000\n",
            "         Dress       0.95      0.99      0.97      6000\n",
            "          Coat       0.92      0.95      0.94      6000\n",
            "        Sandal       1.00      1.00      1.00      6000\n",
            "         Shirt       0.97      0.89      0.93      6000\n",
            "       Sneaker       1.00      1.00      1.00      6000\n",
            "           Bag       1.00      1.00      1.00      6000\n",
            "    Ankle boot       1.00      1.00      1.00      6000\n",
            "\n",
            "     micro avg       0.97      0.97      0.97     60000\n",
            "     macro avg       0.97      0.97      0.97     60000\n",
            "  weighted avg       0.97      0.97      0.97     60000\n",
            "   samples avg       0.97      0.97      0.97     60000\n",
            "\n",
            "Runtime of the algorithm is  8418.014  seconds\n",
            "(5314.453796602837, 87.58)\n"
          ]
        },
        {
          "output_type": "display_data",
          "data": {
            "text/plain": [
              "<Figure size 576x396 with 1 Axes>"
            ],
            "image/png": "[encoded data removed]"
          },
          "metadata": {}
        }
      ],
      "source": [
        "start = time.time()\n",
        "\n",
        "# Instantiate the neural network with the number of nodes you choose per layer, right now it is done for three layers only.\n",
        "nn = NeuralNetwork(nodes_per_layer=nodes_per_layer)\n",
        "history = nn.fit(trX, trY, epochs=EPOCH, lr=LEARNING_RATE)\n",
        "plt.plot(history);\n",
        "plt.gca().set(xlabel='Epoch', ylabel='Cross-entropy', title='Training Plot {}'.format(rollnumber));\n",
        "end = time.time()\n",
        "\n",
        "print(\"Runtime of the algorithm is \", round((end - start),3),\" seconds\")\n",
        "\n",
        "# print accuracy on test set here\n",
        "print(nn.evaluate(tstX,tstY))"
      ]
    },
    {
      "cell_type": "markdown",
      "metadata": {
        "id": "uXdl3d98idec"
      },
      "source": [
        "#### <b>PART 2</b>\n",
        "\n",
        "Now that your NN model has been replicated and trained, we move on to the actual part of this phase i.e. making your own dataset. The instruction for creating your own dataset are as follows:\n",
        "\n",
        "- Each group has to create a dataset of 50 images (preferred way to go about this is that each member takes 10 pictures for the dataset)\n",
        "- Make sure that all the classes/categories that are there in the Fashion MNIST dataset are covered in these 50 pictures. \n",
        "- Make sure that that there is no class imbalance in your dataset. Class imbalance is when one or more classes have more images/data than others\n",
        "- Once done with taking the pictures, add them into folders where the name of the folder will be the label of that image (for reference, you can have a look at how phase 1's dataset was organized as you essentially have to replicate that directory tree with the only difference is that there will only be `test` folder as this dataset is only being used for evaluation purposes)\n",
        "- Zip the dataset and upload it on your Google Drive. You will have to mount your drive and import your dataset in the same way as it was done in phase 1\n",
        "\n",
        "Once done, you will be reading the your dataset in the notebook and storing it in variables (please make sure that you are not overwriting any variable from Part 1). This will be followed by preprocessing that you will have to do on the images an finally, you will be able to evalute your model \n",
        "\n",
        "<b>Note: It is important that you know the classes/categories, shape and other information regarding the Fashion MNIST dataset on which your model is trained because for your own dataset, you will have to generate the data/images such that they are inline with those same properties and classes otherwise your network will make a lot of misclassifications. You can read up on the Fashion MNIST dataset [here](https://www.kaggle.com/zalando-research/fashionmnist): to familiarize yourself with the dataset</b>"
      ]
    },
    {
      "cell_type": "code",
      "execution_count": 15,
      "metadata": {
        "id": "YIRg28XDmf4K",
        "colab": {
          "base_uri": "https://localhost:8080/"
        },
        "outputId": "449e06c1-64df-4b14-88d2-74a8c80eefaa"
      },
      "outputs": [
        {
          "output_type": "stream",
          "name": "stdout",
          "text": [
            "Drive already mounted at /drive; to attempt to forcibly remount, call drive.mount(\"/drive\", force_remount=True).\n"
          ]
        }
      ],
      "source": [
        "# Mounting Google Drive here\n",
        "drive.mount('/drive')\n",
        "\n",
        "# Edit this address so that it points to the dataset's zipped file on your Google Drive\n",
        "!unzip -o -q \"/drive/MyDrive/myDataSet.zip\" -d \"/content/data/\""
      ]
    },
    {
      "cell_type": "code",
      "execution_count": 43,
      "metadata": {
        "id": "j0ll0f79mqPY"
      },
      "outputs": [],
      "source": [
        "classes = 10  # do not change this\n",
        "my_X_test = None   # you must store the test images of your dataset in this varaible\n",
        "my_y_test = None   # you must store the test images' labels of your dataset in this varaible\n",
        "test_label = []\n",
        "from google.colab.patches import cv2_imshow\n",
        "###### Code Here ######\n",
        "'''Please note that you will have to extarct and one-hot encode the labels of the images for my_y_test'''\n",
        "\n",
        "\n",
        "tst_dt = []\n",
        "kernel = np.ones((5,5),np.uint8)\n",
        "for i in glob.glob('/content/data/myDataSet/test/*/*'):\n",
        "  test_label.append(i.split('/')[5])\n",
        "  im_read = cv2.imread(i)\n",
        "  im_resize = cv2.resize(im_read,(28, 28))\n",
        "  im_not = cv2.bitwise_not(im_resize)\n",
        "  tst_dt.append(im_not)\n",
        "\n",
        "my_y_test = np.zeros((50, 10))\n",
        "index = 0\n",
        "for label in test_label:\n",
        "  onehotencodings = [0, 0, 0, 0, 0, 0, 0, 0, 0 ,0]\n",
        "  if label == \"top\":\n",
        "    onehotencodings[0] = 1\n",
        "    my_y_test[index] = onehotencodings\n",
        "    index += 1\n",
        "  elif label == \"pants\":\n",
        "    onehotencodings[1] = 1\n",
        "    my_y_test[index] = onehotencodings\n",
        "    index += 1\n",
        "  elif label == \"pullovershirt\":\n",
        "    onehotencodings[2] = 1\n",
        "    my_y_test[index] = onehotencodings\n",
        "    index += 1\n",
        "  elif label == \"dress\":\n",
        "    onehotencodings[3] = 1\n",
        "    my_y_test[index] = onehotencodings\n",
        "    index += 1\n",
        "  elif label == \"coat\":\n",
        "    onehotencodings[4] = 1\n",
        "    my_y_test[index] = onehotencodings\n",
        "    index += 1\n",
        "  elif label == \"sandal\":\n",
        "    onehotencodings[5] = 1\n",
        "    my_y_test[index] = onehotencodings\n",
        "    index += 1\n",
        "  elif label == \"shirt\":\n",
        "    onehotencodings[6] = 1\n",
        "    my_y_test[index] = onehotencodings\n",
        "    index += 1\n",
        "  elif label == \"sneaker\":\n",
        "    onehotencodings[7] = 1\n",
        "    my_y_test[index] = onehotencodings\n",
        "    index += 1\n",
        "  elif label == \"bag\":\n",
        "    onehotencodings[8] = 1\n",
        "    my_y_test[index] = onehotencodings\n",
        "    index += 1\n",
        "  elif label == \"anklefoot\":\n",
        "    onehotencodings[9] = 1\n",
        "    my_y_test[index] = onehotencodings\n",
        "    index += 1"
      ]
    },
    {
      "cell_type": "markdown",
      "metadata": {
        "id": "u3zn9yeBnCSZ"
      },
      "source": [
        "Now you have to do the preprocessing of the images such that they are inline with the image properties of the images of Fashion MNIST dataset. This is the core task of this phase and completely dependent on your own research on preprocessing of data\n",
        "\n",
        "<b>HINT: Data Normalization is one of the ways the data is preprocessed</b>"
      ]
    },
    {
      "cell_type": "code",
      "execution_count": 44,
      "metadata": {
        "id": "jCYWtB7Fm_Wt",
        "colab": {
          "base_uri": "https://localhost:8080/"
        },
        "outputId": "016bd701-3ca8-413d-de85-70df2be9f26a"
      },
      "outputs": [
        {
          "output_type": "stream",
          "name": "stdout",
          "text": [
            "Number of training sample:  (50, 784)\n",
            "Number of testing sample:  (50, 10)\n"
          ]
        }
      ],
      "source": [
        "temp_test = []\n",
        "L_R = np.array([120, 150, 150])\n",
        "U_R = np.array([255,255,255])\n",
        "for img in tst_dt:\n",
        "  img_this = img\n",
        "  image_inrange = cv2.inRange(img_this, L_R, U_R)\n",
        "  img_bitnot = cv2.bitwise_not(image_inrange, image_inrange)\n",
        "  img_this = cv2.bitwise_and(img_this, img_this, mask = img_bitnot)\n",
        "  img_this = cv2.cvtColor(img_this, cv2.COLOR_BGR2GRAY)\n",
        "  for i in range(img_this.shape[0]):\n",
        "    for j in range(img_this.shape[1]):\n",
        "      if img_this[i][j] != 0:\n",
        "        img_this[i][j] = 255 - img_this[i][j]\n",
        "  img_this = cv2.bilateralFilter(img_this,9,75,75)\n",
        "  mean_img = np.mean(img_this)\n",
        "  std_img = np.std(img_this)\n",
        "  up_img = img_this-mean_img\n",
        "  norm_img = up_img/std_img\n",
        "  flat_img = norm_img.flatten()\n",
        "  temp_test.append(flat_img)\n",
        "\n",
        "my_X_test = np.array(temp_test)\n",
        "print(\"Number of training sample: \", my_X_test.shape)\n",
        "print(\"Number of testing sample: \", my_y_test.shape)"
      ]
    },
    {
      "cell_type": "code",
      "execution_count": 45,
      "metadata": {
        "id": "8oab3cwsoBat",
        "colab": {
          "base_uri": "https://localhost:8080/"
        },
        "outputId": "c8f2d0c1-6fec-4f74-fef5-e61cdda95690"
      },
      "outputs": [
        {
          "output_type": "stream",
          "name": "stdout",
          "text": [
            "(523.3643333386328, 22.0)\n"
          ]
        }
      ],
      "source": [
        "# print accuracy on your own dataset here\n",
        "print(nn.evaluate(my_X_test,my_y_test))"
      ]
    }
  ],
  "metadata": {
    "colab": {
      "collapsed_sections": [],
      "name": "groupXX_Phase3 (1).ipynb",
      "provenance": []
    },
    "kernelspec": {
      "display_name": "Python 3",
      "name": "python3"
    },
    "language_info": {
      "name": "python"
    },
    "widgets": {
      "application/vnd.jupyter.widget-state+json": {
        "a9c8d5e64c1d457b9710fcb738539f41": {
          "model_module": "@jupyter-widgets/controls",
          "model_name": "HBoxModel",
          "model_module_version": "1.5.0",
          "state": {
            "_dom_classes": [],
            "_model_module": "@jupyter-widgets/controls",
            "_model_module_version": "1.5.0",
            "_model_name": "HBoxModel",
            "_view_count": null,
            "_view_module": "@jupyter-widgets/controls",
            "_view_module_version": "1.5.0",
            "_view_name": "HBoxView",
            "box_style": "",
            "children": [
              "IPY_MODEL_2a8e3788f58b43cb980c0248468a4ce5",
              "IPY_MODEL_832eb9234c7f48458624ed06cf14e0c5",
              "IPY_MODEL_eb72503db4a54eafa1b84fac91ea6204"
            ],
            "layout": "IPY_MODEL_7b593b9e18dc4ddf8c5652dd0dfcf76f"
          }
        },
        "2a8e3788f58b43cb980c0248468a4ce5": {
          "model_module": "@jupyter-widgets/controls",
          "model_name": "HTMLModel",
          "model_module_version": "1.5.0",
          "state": {
            "_dom_classes": [],
            "_model_module": "@jupyter-widgets/controls",
            "_model_module_version": "1.5.0",
            "_model_name": "HTMLModel",
            "_view_count": null,
            "_view_module": "@jupyter-widgets/controls",
            "_view_module_version": "1.5.0",
            "_view_name": "HTMLView",
            "description": "",
            "description_tooltip": null,
            "layout": "IPY_MODEL_5dbe91c0e9734c11a2f381332856e576",
            "placeholder": "​",
            "style": "IPY_MODEL_0e7275fcaaa44c96930f80073703155b",
            "value": "100%"
          }
        },
        "832eb9234c7f48458624ed06cf14e0c5": {
          "model_module": "@jupyter-widgets/controls",
          "model_name": "FloatProgressModel",
          "model_module_version": "1.5.0",
          "state": {
            "_dom_classes": [],
            "_model_module": "@jupyter-widgets/controls",
            "_model_module_version": "1.5.0",
            "_model_name": "FloatProgressModel",
            "_view_count": null,
            "_view_module": "@jupyter-widgets/controls",
            "_view_module_version": "1.5.0",
            "_view_name": "ProgressView",
            "bar_style": "success",
            "description": "",
            "description_tooltip": null,
            "layout": "IPY_MODEL_c605df0f7ec8411886d98a2312924649",
            "max": 100,
            "min": 0,
            "orientation": "horizontal",
            "style": "IPY_MODEL_b0d0c9b83f554c81ba6e0aac1ac4b978",
            "value": 100
          }
        },
        "eb72503db4a54eafa1b84fac91ea6204": {
          "model_module": "@jupyter-widgets/controls",
          "model_name": "HTMLModel",
          "model_module_version": "1.5.0",
          "state": {
            "_dom_classes": [],
            "_model_module": "@jupyter-widgets/controls",
            "_model_module_version": "1.5.0",
            "_model_name": "HTMLModel",
            "_view_count": null,
            "_view_module": "@jupyter-widgets/controls",
            "_view_module_version": "1.5.0",
            "_view_name": "HTMLView",
            "description": "",
            "description_tooltip": null,
            "layout": "IPY_MODEL_f523cc8007d64da599cd9b61cd34b9bd",
            "placeholder": "​",
            "style": "IPY_MODEL_45c575d6cfc0468183d858e93924306b",
            "value": " 100/100 [2:20:17&lt;00:00, 82.83s/it]"
          }
        },
        "7b593b9e18dc4ddf8c5652dd0dfcf76f": {
          "model_module": "@jupyter-widgets/base",
          "model_name": "LayoutModel",
          "model_module_version": "1.2.0",
          "state": {
            "_model_module": "@jupyter-widgets/base",
            "_model_module_version": "1.2.0",
            "_model_name": "LayoutModel",
            "_view_count": null,
            "_view_module": "@jupyter-widgets/base",
            "_view_module_version": "1.2.0",
            "_view_name": "LayoutView",
            "align_content": null,
            "align_items": null,
            "align_self": null,
            "border": null,
            "bottom": null,
            "display": null,
            "flex": null,
            "flex_flow": null,
            "grid_area": null,
            "grid_auto_columns": null,
            "grid_auto_flow": null,
            "grid_auto_rows": null,
            "grid_column": null,
            "grid_gap": null,
            "grid_row": null,
            "grid_template_areas": null,
            "grid_template_columns": null,
            "grid_template_rows": null,
            "height": null,
            "justify_content": null,
            "justify_items": null,
            "left": null,
            "margin": null,
            "max_height": null,
            "max_width": null,
            "min_height": null,
            "min_width": null,
            "object_fit": null,
            "object_position": null,
            "order": null,
            "overflow": null,
            "overflow_x": null,
            "overflow_y": null,
            "padding": null,
            "right": null,
            "top": null,
            "visibility": null,
            "width": null
          }
        },
        "5dbe91c0e9734c11a2f381332856e576": {
          "model_module": "@jupyter-widgets/base",
          "model_name": "LayoutModel",
          "model_module_version": "1.2.0",
          "state": {
            "_model_module": "@jupyter-widgets/base",
            "_model_module_version": "1.2.0",
            "_model_name": "LayoutModel",
            "_view_count": null,
            "_view_module": "@jupyter-widgets/base",
            "_view_module_version": "1.2.0",
            "_view_name": "LayoutView",
            "align_content": null,
            "align_items": null,
            "align_self": null,
            "border": null,
            "bottom": null,
            "display": null,
            "flex": null,
            "flex_flow": null,
            "grid_area": null,
            "grid_auto_columns": null,
            "grid_auto_flow": null,
            "grid_auto_rows": null,
            "grid_column": null,
            "grid_gap": null,
            "grid_row": null,
            "grid_template_areas": null,
            "grid_template_columns": null,
            "grid_template_rows": null,
            "height": null,
            "justify_content": null,
            "justify_items": null,
            "left": null,
            "margin": null,
            "max_height": null,
            "max_width": null,
            "min_height": null,
            "min_width": null,
            "object_fit": null,
            "object_position": null,
            "order": null,
            "overflow": null,
            "overflow_x": null,
            "overflow_y": null,
            "padding": null,
            "right": null,
            "top": null,
            "visibility": null,
            "width": null
          }
        },
        "0e7275fcaaa44c96930f80073703155b": {
          "model_module": "@jupyter-widgets/controls",
          "model_name": "DescriptionStyleModel",
          "model_module_version": "1.5.0",
          "state": {
            "_model_module": "@jupyter-widgets/controls",
            "_model_module_version": "1.5.0",
            "_model_name": "DescriptionStyleModel",
            "_view_count": null,
            "_view_module": "@jupyter-widgets/base",
            "_view_module_version": "1.2.0",
            "_view_name": "StyleView",
            "description_width": ""
          }
        },
        "c605df0f7ec8411886d98a2312924649": {
          "model_module": "@jupyter-widgets/base",
          "model_name": "LayoutModel",
          "model_module_version": "1.2.0",
          "state": {
            "_model_module": "@jupyter-widgets/base",
            "_model_module_version": "1.2.0",
            "_model_name": "LayoutModel",
            "_view_count": null,
            "_view_module": "@jupyter-widgets/base",
            "_view_module_version": "1.2.0",
            "_view_name": "LayoutView",
            "align_content": null,
            "align_items": null,
            "align_self": null,
            "border": null,
            "bottom": null,
            "display": null,
            "flex": null,
            "flex_flow": null,
            "grid_area": null,
            "grid_auto_columns": null,
            "grid_auto_flow": null,
            "grid_auto_rows": null,
            "grid_column": null,
            "grid_gap": null,
            "grid_row": null,
            "grid_template_areas": null,
            "grid_template_columns": null,
            "grid_template_rows": null,
            "height": null,
            "justify_content": null,
            "justify_items": null,
            "left": null,
            "margin": null,
            "max_height": null,
            "max_width": null,
            "min_height": null,
            "min_width": null,
            "object_fit": null,
            "object_position": null,
            "order": null,
            "overflow": null,
            "overflow_x": null,
            "overflow_y": null,
            "padding": null,
            "right": null,
            "top": null,
            "visibility": null,
            "width": null
          }
        },
        "b0d0c9b83f554c81ba6e0aac1ac4b978": {
          "model_module": "@jupyter-widgets/controls",
          "model_name": "ProgressStyleModel",
          "model_module_version": "1.5.0",
          "state": {
            "_model_module": "@jupyter-widgets/controls",
            "_model_module_version": "1.5.0",
            "_model_name": "ProgressStyleModel",
            "_view_count": null,
            "_view_module": "@jupyter-widgets/base",
            "_view_module_version": "1.2.0",
            "_view_name": "StyleView",
            "bar_color": null,
            "description_width": ""
          }
        },
        "f523cc8007d64da599cd9b61cd34b9bd": {
          "model_module": "@jupyter-widgets/base",
          "model_name": "LayoutModel",
          "model_module_version": "1.2.0",
          "state": {
            "_model_module": "@jupyter-widgets/base",
            "_model_module_version": "1.2.0",
            "_model_name": "LayoutModel",
            "_view_count": null,
            "_view_module": "@jupyter-widgets/base",
            "_view_module_version": "1.2.0",
            "_view_name": "LayoutView",
            "align_content": null,
            "align_items": null,
            "align_self": null,
            "border": null,
            "bottom": null,
            "display": null,
            "flex": null,
            "flex_flow": null,
            "grid_area": null,
            "grid_auto_columns": null,
            "grid_auto_flow": null,
            "grid_auto_rows": null,
            "grid_column": null,
            "grid_gap": null,
            "grid_row": null,
            "grid_template_areas": null,
            "grid_template_columns": null,
            "grid_template_rows": null,
            "height": null,
            "justify_content": null,
            "justify_items": null,
            "left": null,
            "margin": null,
            "max_height": null,
            "max_width": null,
            "min_height": null,
            "min_width": null,
            "object_fit": null,
            "object_position": null,
            "order": null,
            "overflow": null,
            "overflow_x": null,
            "overflow_y": null,
            "padding": null,
            "right": null,
            "top": null,
            "visibility": null,
            "width": null
          }
        },
        "45c575d6cfc0468183d858e93924306b": {
          "model_module": "@jupyter-widgets/controls",
          "model_name": "DescriptionStyleModel",
          "model_module_version": "1.5.0",
          "state": {
            "_model_module": "@jupyter-widgets/controls",
            "_model_module_version": "1.5.0",
            "_model_name": "DescriptionStyleModel",
            "_view_count": null,
            "_view_module": "@jupyter-widgets/base",
            "_view_module_version": "1.2.0",
            "_view_name": "StyleView",
            "description_width": ""
          }
        }
      }
    }
  },
  "nbformat": 4,
  "nbformat_minor": 0
}